{
 "cells": [
  {
   "cell_type": "code",
   "execution_count": 2,
   "id": "205a83a8-43fe-40f3-b809-f69235ca98a7",
   "metadata": {},
   "outputs": [
    {
     "name": "stdout",
     "output_type": "stream",
     "text": [
      "            Région  Urbain_Masculin  Urbain_Féminin  Urbain_Total  \\\n",
      "0       Analamanga             56.9            57.5          57.2   \n",
      "1   Vakinankaratra             43.2            46.0          44.6   \n",
      "2            Itasy             50.6            51.3          50.9   \n",
      "3        Bongolava             46.8            43.4          45.1   \n",
      "4  Haute Matsiatra             49.6            52.9          51.4   \n",
      "\n",
      "   Rural_Masculin  Rural_Féminin  Rural_Total  Total_Masculin  Total_Féminin  \\\n",
      "0            41.1           44.9         43.1            47.7           50.5   \n",
      "1            16.1           16.8         16.4            22.6           24.1   \n",
      "2            17.9           19.9         18.9            21.4           23.5   \n",
      "3            16.6           16.4         16.5            20.4           19.9   \n",
      "4            13.6           17.5         15.5            22.3           27.0   \n",
      "\n",
      "   Total_Total  Quintille_Plus_pauvre  Quintille_2e  Quintille_3e  \\\n",
      "0         19.2                    4.7          11.1          22.9   \n",
      "1         23.3                    3.5           7.5          14.4   \n",
      "2         22.4                    3.4           7.4          15.2   \n",
      "3         20.1                    4.9           7.4          14.0   \n",
      "4         24.7                    5.6          10.9          18.6   \n",
      "\n",
      "   Quintille_4e  Quintille_Plus_riche  Quintille_Ensemble  \n",
      "0          36.9                  61.8                49.2  \n",
      "1          33.2                  62.6                23.3  \n",
      "2          35.4                  62.8                22.4  \n",
      "3          32.1                  61.4                20.1  \n",
      "4          38.4                  65.4                24.7  \n"
     ]
    }
   ],
   "source": [
    "import pandas as pd\n",
    "\n",
    "# Structure des données avec les colonnes principales et leurs sous-catégories\n",
    "data = {\n",
    "    \"Région\": [\n",
    "        \"Analamanga\", \"Vakinankaratra\", \"Itasy\", \"Bongolava\", \"Haute Matsiatra\",\n",
    "        \"Amoron'i Mania\", \"Vatovavy Fitovinany\", \"Ihorombe\", \"Atsimo Atsinanana\",\"Antsinanana\",\"Analanjirofo\",\"Alaotra Mangoro\", \"Boeny\",   \"Sofia\",  \"Betsiboka\",  \"Melaky\", \"Atsimo Andrefana\", \"Androy\", \"Anosy\", \"Menabe\",\n",
    "        \"Diana\", \"Sava\",  \"MADAGASCAR\"\n",
    "    ],\n",
    "    \"Urbain_Masculin\": [56.9, 43.2, 50.6, 46.8, 49.6, 39.1, 38.7, 32.2, 40.0, 45.7, 50.1, 45.4, 48.9, 55.9, 30.5, 24.7, 34.5, 27.9, 39.7, 42.4, 56.2, 50.4, 47.8],\n",
    "    \"Urbain_Féminin\": [57.5, 46.0, 51.3, 43.4, 52.9, 41.9, 35.2, 31.4, 32.4, 44.1, 46.9, 45.8, 48.7, 52.9, 29.1, 20.5, 33.2, 25.0, 35.6, 39.9, 56.7, 48.9, 47.3],\n",
    "    \"Urbain_Total\": [57.2, 44.6, 50.9, 45.1, 51.4, 40.5, 36.8, 31.8, 36.1, 44.8, 48.4, 45.6, 48.8, 54.4, 29.8, 22.5, 33.8, 26.4, 37.5, 41.1, 56.5, 49.6, 47.5],\n",
    "    \"Rural_Masculin\": [41.1, 16.1, 17.9, 16.6, 13.6, 14.7, 11.8, 08.30, 10.7, 9.4, 20.0, 21.5, 11.8, 19.0, 10.5, 3.0, 9.0, 6.4, 7.2, 8.2, 20.4, 21.7, 17.0],\n",
    "    \"Rural_Féminin\": [44.9, 16.8, 19.9, 16.4, 17.5, 16.6, 9.5, 8.1,7.4, 9.4, 18.2, 23.2, 10.1, 15.1, 09.6, 3.0, 8.2, 6.7, 5.5, 7.3, 20.9, 18.9, 16.7],\n",
    "    \"Rural_Total\": [43.1, 16.4, 18.9, 16.5, 15.5, 15.7, 10.7, 8.2, 09.0, 9.4, 19.0, 22.3, 10.9, 16.9, 10.0, 3.0, 8.6, 6.6, 6.3, 7.8, 20.6, 20.3, 16.9],\n",
    "    \"Total_Masculin\": [47.7, 22.6, 21.4, 20.4, 22.3, 19.1, 15.0, 13.1, 14.5, 21.1, 26.6, 25.7, 26.9, 25.5, 13.7, 8.5, 14.7, 10.3, 12.7, 15.8, 33.1, 28.2, 24.5],\n",
    "    \"Total_Féminin\": [50.5, 24.1, 23.5, 19.9, 27.0, 21.4, 12.7, 12.6, 10.5, 21.9, 24.5, 27.2, 25.9, 21.1, 12.8, 7.3, 13.7, 9.9, 10.5, 14.2, 34.3, 25.8, 24.3],\n",
    "    \"Total_Total\": [19.2, 23.3, 22.4, 20.1, 24.7, 20.3, 13.8, 12.9, 12.4, 21.5, 25.5, 26.5, 26.4, 23.2, 13.2, 7.9, 14.1, 10.1, 11.5, 14.9, 33.8, 26.9, 24.4],\n",
    "    \"Quintille_Plus_pauvre\": [4.7, 3.5, 3.4, 4.9, 5.6, 3.9, 6.8, 2.9, 5.5, 4.6, 7.4, 4.9, 4.6, 9.1, 4.5, 2.1, 3.0, 3.6, 2.0, 3.0, 8.6, 9.0, 4.7],\n",
    "    \"Quintille_2e\": [11.1, 7.5, 7.4, 7.4, 10.9, 9.2, 9.5, 6.6, 9.5, 6.9, 10.5, 9.3, 8.4, 12.8, 7.9, 4.0, 6.2, 7.4, 4.9, 4.7, 12.7, 11.8, 8.7],\n",
    "    \"Quintille_3e\": [22.9, 14.4, 15.2, 14.0, 18.6, 16.5, 16.2, 16.6, 17.4, 11.8, 16.3, 16.3, 15.9, 18.4, 11.7, 10.1, 12.3, 12.9, 10.4, 11.2, 18.4, 15.6, 15.9],\n",
    "    \"Quintille_4e\": [36.9, 33.2, 35.4, 32.1, 38.4, 37.3, 33.4, 29.6, 36.9, 30.4, 29.4, 34.9, 35.9, 35.7, 28.8, 26.0,27.1, 35.7, 28.0, 32.0, 36.8, 30.5, 33.3],\n",
    "    \"Quintille_Plus_riche\": [61.8, 62.6, 62.8, 61.4, 65.4, 60.4, 52.2, 50.3, 48.0, 54.9, 52.1, 58.7, 61.3, 57.4, 48.3, 43.8, 54.2, 60.2, 54.1, 58.3, 60.8, 49.0, 59.5],\n",
    "    \"Quintille_Ensemble\": [49.2, 23.3, 22.4, 20.1, 24.7, 20.3, 13.8, 12.9, 12.4, 21.5, 25.5, 26.5, 26.4, 23.2, 13.2, 7.9, 14.1, 10.1, 11.5, 14.9, 33.8, 26.9, 24.4],\n",
    "}\n",
    "\n",
    "# Conversion en DataFrame\n",
    "df = pd.DataFrame(data)\n",
    "\n",
    "# Sauvegarde en fichier CSV\n",
    "df.to_csv(\"donnees_regions.csv\", index=False)\n",
    "\n",
    "# Afficher un aperçu\n",
    "print(df.head())\n"
   ]
  },
  {
   "cell_type": "code",
   "execution_count": null,
   "id": "ec8d79f1-fe57-42ea-95f8-cfc95c1bd982",
   "metadata": {},
   "outputs": [],
   "source": []
  }
 ],
 "metadata": {
  "kernelspec": {
   "display_name": "Python 3 (ipykernel)",
   "language": "python",
   "name": "python3"
  },
  "language_info": {
   "codemirror_mode": {
    "name": "ipython",
    "version": 3
   },
   "file_extension": ".py",
   "mimetype": "text/x-python",
   "name": "python",
   "nbconvert_exporter": "python",
   "pygments_lexer": "ipython3",
   "version": "3.12.4"
  }
 },
 "nbformat": 4,
 "nbformat_minor": 5
}
