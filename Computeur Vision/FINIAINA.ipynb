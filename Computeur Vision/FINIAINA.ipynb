{
 "cells": [
  {
   "cell_type": "markdown",
   "id": "a8E7De68YVps",
   "metadata": {
    "id": "a8E7De68YVps"
   },
   "source": [
    "# Instructions\n",
    "\n",
    "Travail individuel à réaliser par chaque étudiant. Chaque fichier devra ensuite être rassemblé par groupe dans le premier dépôt Git de l'année universitaire, dans un nouveau dossier nommé <code>Computer Vision</code>.\n",
    "\n",
    "Le nom du fichier doit être le prénom de l'étudiant écrit en minuscules. Par exemple, si l'étudiant s'appelle BOB Toto, le fichier doit être nommé toto.ipynb."
   ]
  },
  {
   "cell_type": "markdown",
   "id": "K6EHkj63XsUy",
   "metadata": {
    "id": "K6EHkj63XsUy"
   },
   "source": [
    "# Détails de l'étudiant\n",
    "### Nom(s)  : ANDRIANANDRASANA\n",
    "### Prénom(s) :Finiaina\n",
    "### Classe : IGGLIA-4"
   ]
  },
  {
   "cell_type": "markdown",
   "id": "intro",
   "metadata": {
    "id": "intro"
   },
   "source": [
    "# Vision par Ordinateur avec Keras/TensorFlow : Un Notebook Pratique et Conceptuel\n",
    "\n",
    "Ce notebook a pour objectif de vous guider pas à pas dans la création et l'analyse d'un modèle de réseau de neurones convolutif (CNN) appliqué au jeu de données CIFAR-10. Chaque étape est accompagnée d'explications pratiques ainsi que de questions conceptuelles pour renforcer votre compréhension des enjeux théoriques et pratiques de la vision par ordinateur."
   ]
  },
  {
   "cell_type": "markdown",
   "id": "etape1",
   "metadata": {
    "id": "etape1"
   },
   "source": [
    "## Étape 1 : Introduction et Configuration de l'Environnement\n",
    "\n",
    "Dans cette étape, nous allons configurer notre environnement de travail et importer les bibliothèques indispensables pour le deep learning et la manipulation de données. Nous vérifions également la version de TensorFlow pour nous assurer que tout fonctionne correctement.\n",
    "\n",
    "### Explication Pratique\n",
    "La bonne configuration de l'environnement est cruciale pour garantir la reproductibilité et la stabilité de vos expériences. En particulier, les versions des bibliothèques peuvent influencer le comportement du modèle et sa performance, d'où l'importance de vérifier et documenter ces versions dès le début."
   ]
  },
  {
   "cell_type": "code",
   "execution_count": 1,
   "id": "code-etape1",
   "metadata": {
    "colab": {
     "base_uri": "https://localhost:8080/"
    },
    "id": "code-etape1",
    "outputId": "bb1339f0-25eb-4422-af7b-15b5088ed18a"
   },
   "outputs": [
    {
     "name": "stdout",
     "output_type": "stream",
     "text": [
      "Version de TensorFlow : 2.18.0\n"
     ]
    }
   ],
   "source": [
    "# Importer les bibliothèques nécessaires\n",
    "import tensorflow as tf\n",
    "from tensorflow import keras\n",
    "from tensorflow.keras import layers, models\n",
    "import numpy as np\n",
    "import matplotlib.pyplot as plt\n",
    "\n",
    "print('Version de TensorFlow :', tf.__version__)"
   ]
  },
  {
   "cell_type": "markdown",
   "id": "question1",
   "metadata": {
    "id": "question1"
   },
   "source": [
    "### Question  1\n",
    "\n",
    "**Q1 :** Pourquoi est-il essentiel de vérifier la configuration de l'environnement (versions des bibliothèques, dépendances, etc.) avant de développer un modèle de deep learning ?\n",
    "\n",
    "_Répondez dans une nouvelle cellule Markdown._"
   ]
  },
  {
   "cell_type": "markdown",
   "id": "2fc0b215-e818-46ab-985f-0d0e7086b40b",
   "metadata": {
    "id": "question1"
   },
   "source": [
    "### Question  1\n",
    "\n",
    "**Q1 : Il est essentiel de vérifier la configuration de l'environnement pour plusieurs motifs :\r\n",
    "**\r\n",
    "Compatibili**té : Les versions différentes des bibliothèques peuvent présenter des incompatibilités de fonctionnalités ou de syntaxe. Par exemple, une méthode existante dans une version de TensorFlow peut être obsolète ou supprimée dans une autre.**\r\n",
    "\r\n",
    "Reproductibi**lité : Afin d’assurer que les résultats soient reproductibles par d’autres utilisateurs ou sur d’autres systèmes, il est indispensable d’employer des versions identiques des dépendance**s.\r\n",
    "\r\n",
    "Sta**bilité : Certaines versions peuvent comporter des bugs ou des ralentissements. Vérifier les dépendances permet de prévenir des dysfonctionnements inopi**nés.\r\n",
    "\r\n",
    "Support et docum**entation : Les versions à jour bénéficient généralement d’une meilleure documentation et d’un support technique plus efficace, simplifiant ainsi le développement et la résolution d’erreurs.ébogage.\n",
    "\n"
   ]
  },
  {
   "cell_type": "markdown",
   "id": "etape2",
   "metadata": {
    "id": "etape2"
   },
   "source": [
    "## Étape 2 : Chargement et Prétraitement des Données\n",
    "\n",
    "Nous allons charger le jeu de données CIFAR-10, composé de 60 000 images couleur réparties en 10 classes. Dans cette étape, nous normalisons les valeurs des pixels afin qu'elles soient comprises entre 0 et 1, et nous transformons les étiquettes en format one-hot pour faciliter le processus de classification.\n",
    "\n",
    "### Explication Pratique\n",
    "La normalisation aide à stabiliser et accélérer l'entraînement du modèle en assurant que les valeurs d'entrée ont une échelle comparable. Le one-hot encoding évite que le modèle interprète les étiquettes comme des valeurs numériques ordonnées, ce qui est essentiel pour les problèmes de classification multi-classes."
   ]
  },
  {
   "cell_type": "code",
   "execution_count": null,
   "id": "code-etape2",
   "metadata": {
    "id": "code-etape2"
   },
   "outputs": [],
   "source": [
    "# Charger le jeu de données CIFAR-10\n",
    "(x_train, y_train), (x_test, y_test) = keras.datasets.cifar10.load_data()\n",
    "\n",
    "# Normaliser les valeurs des pixels (entre 0 et 1)\n",
    "x_train = x_train.astype('float32') / 255.0\n",
    "x_test = x_test.astype('float32') / 255.0\n",
    "\n",
    "# Convertir les vecteurs de classes en matrices binaires (one-hot encoding)\n",
    "num_classes = 10\n",
    "y_train = keras.utils.to_categorical(y_train, num_classes)\n",
    "y_test = keras.utils.to_categorical(y_test, num_classes)\n",
    "\n",
    "print(\"Forme des données d'entrainement :\", x_train.shape)\n",
    "print(\"Forme des étiquettes d'entraînement :\", y_train.shape)"
   ]
  },
  {
   "cell_type": "markdown",
   "id": "question2",
   "metadata": {
    "id": "question2"
   },
   "source": [
    "### Question 2\n",
    "\n",
    "**Q2 :** Expliquez comment la normalisation des pixels et le one-hot encoding des étiquettes contribuent chacun à la stabilité et à l'efficacité de l'entraînement d'un modèle de deep learning.\n",
    "\n",
    "_Répondez dans une nouvelle cellule Markdown._"
   ]
  },
  {
   "cell_type": "markdown",
   "id": "e17f3e81-8066-4870-b87c-4c782572759f",
   "metadata": {},
   "source": [
    "**Normalisation des pixels** :\n",
    "Les valeurs des pixels sont généralement comprises entre 0 et 255. En les normalisant pour qu'elles soient dans l'intervalle [0, 1], on uniformise l'échelle des données. Cela permet :\n",
    "    - D'éviter que certaines valeurs dominent les autres lors des calculs, ce qui stabilise la descente de gradient.\n",
    "    - D'accélérer la convergence de l'algorithme d'optimisation, car les poids sont ajustés de manière plus équilibrée.\n",
    "\n",
    "**One-hot encoding des étiquettes**:\n",
    "Les étiquettes sont converties en vecteurs binaires (par exemple, la classe 3 devient [0, 0, 0, 1, 0, ..., 0]). Cela permet :\n",
    "    - D'éviter que le modèle interprète les étiquettes comme des valeurs ordinales (par exemple, que la classe 3 soit \"supérieure\" à la classe 2).\n",
    "    - D'utiliser la fonction de perte categorical_crossentropy, qui est adaptée aux problèmes de classification multi-classes."
   ]
  },
  {
   "cell_type": "markdown",
   "id": "etape3",
   "metadata": {
    "id": "etape3"
   },
   "source": [
    "## Étape 3 : Exploration et Visualisation des Données\n",
    "\n",
    "Avant de construire le modèle, il est important d'explorer et de visualiser les données. Nous affichons ainsi un échantillon d'images du jeu de données pour mieux comprendre leur contenu et la distribution des classes.\n",
    "\n",
    "### Explication Pratique\n",
    "La visualisation des données permet d'identifier d'éventuelles anomalies, comme des classes sous-représentées ou des images bruitées, et de décider si des techniques d'augmentation de données ou de prétraitement supplémentaires sont nécessaires."
   ]
  },
  {
   "cell_type": "code",
   "execution_count": null,
   "id": "code-etape3",
   "metadata": {
    "id": "code-etape3"
   },
   "outputs": [],
   "source": [
    "# Afficher quelques images du jeu de données d'entraînement\n",
    "noms_classes = ['avion', 'automobile', 'oiseau', 'chat', 'cerf',\n",
    "               'chien', 'grenouille', 'cheval', 'navire', 'camion']\n",
    "\n",
    "plt.figure(figsize=(10,10))\n",
    "for i in range(25):\n",
    "    plt.subplot(5,5,i+1)\n",
    "    plt.xticks([])\n",
    "    plt.yticks([])\n",
    "    plt.grid(False)\n",
    "    plt.imshow(x_train[i])\n",
    "    plt.xlabel(noms_classes[y_train[i].argmax()])\n",
    "plt.show()"
   ]
  },
  {
   "cell_type": "markdown",
   "id": "question3",
   "metadata": {
    "id": "question3"
   },
   "source": [
    "### Question 3\n",
    "\n",
    "**Q3 :** D'après la visualisation, discutez de l'impact potentiel d'une distribution inégale des classes ou de la présence d'images de mauvaise qualité sur la performance d'un modèle de classification. Quelles stratégies pourraient être mises en place pour pallier ces problèmes ?\n",
    "\n",
    "_Répondez dans une nouvelle cellule Markdown._"
   ]
  },
  {
   "cell_type": "markdown",
   "id": "540e12ee-a3e8-41a5-84d8-383b8555e665",
   "metadata": {},
   "source": [
    "**Impact d'une distribution inégale** :\r",
    "    \n",
    "Si certaines classes sont sous-représentées, le modèle pourrait être biaisé en faveur des classes majoritaires, conduisant à une mauvaise performance sur les classes minoritaires.\r",
    "**\n",
    "\r\n",
    "Impact des images de mauvaise qual** té     :\r\n",
    "Des images floues, bruitées ou mal annotées peuvent induire le modèle en erreur et réduire sa précisio**n.\r\n",
    "\r\n",
    "Stratégies pour pallier ces pro** lm   - es :\r\n",
    "\r\n",
    "Rééquilibrage des classes : Utiliser des techniques comme le sur-échantillonnage (oversampling) des classes minoritaires ou le sous-échantillonnage (undersampling) des classes majort   - aires.\r\n",
    "\r\n",
    "Augmentation de données : Appliquer des transformations (rotation, translation, changement de luminosité, etc.) pour générer plus de données et améliorer la robustesse d   -  modèle.\r\n",
    "\r\n",
    "Nettoyage des données : Supprimer ou corriger les images de mauvaise qualité ou ma   -  annotées.\r\n",
    "\r\n",
    "Utilisation de poids de classe : Attribuer des poids plus élevés aux classes minoritaires pendant l'entraînement pour compenser leur faible représentation."
   ]
  },
  {
   "cell_type": "markdown",
   "id": "etape4",
   "metadata": {
    "id": "etape4"
   },
   "source": [
    "## Étape 4 : Construction du Modèle CNN\n",
    "\n",
    "Nous allons construire un réseau de neurones convolutif (CNN) pour extraire des caractéristiques hiérarchiques des images. Ce modèle se compose de plusieurs blocs de convolution suivis de couches de pooling et se termine par des couches entièrement connectées pour la classification.\n",
    "\n",
    "### Explication Pratique\n",
    "Les couches de convolution permettent au modèle de détecter des motifs locaux (comme les contours ou les textures), tandis que les couches de pooling réduisent la dimensionnalité, ce qui diminue la charge computationnelle et aide à rendre le modèle plus robuste aux translations. Le dropout, quant à lui, est une technique de régularisation qui aide à prévenir le surapprentissage en désactivant aléatoirement certains neurones pendant l'entraînement."
   ]
  },
  {
   "cell_type": "code",
   "execution_count": null,
   "id": "code-etape4",
   "metadata": {
    "id": "code-etape4"
   },
   "outputs": [],
   "source": [
    "# Construire le modèle CNN\n",
    "model = models.Sequential()\n",
    "\n",
    "# Bloc de convolution 1 : 32 filtres, taille 3x3, activation ReLU\n",
    "model.add(layers.Conv2D(32, (3, 3), activation='relu', input_shape=x_train.shape[1:]))\n",
    "model.add(layers.MaxPooling2D((2, 2)))\n",
    "\n",
    "# Bloc de convolution 2 : 64 filtres\n",
    "model.add(layers.Conv2D(64, (3, 3), activation='relu'))\n",
    "model.add(layers.MaxPooling2D((2, 2)))\n",
    "\n",
    "# Bloc de convolution 3 : 64 filtres\n",
    "model.add(layers.Conv2D(64, (3, 3), activation='relu'))\n",
    "\n",
    "# Aplatir les sorties et ajouter des couches entièrement connectées\n",
    "model.add(layers.Flatten())\n",
    "model.add(layers.Dense(64, activation='relu'))\n",
    "model.add(layers.Dropout(0.5))\n",
    "model.add(layers.Dense(num_classes, activation='softmax'))\n",
    "\n",
    "model.summary()"
   ]
  },
  {
   "cell_type": "markdown",
   "id": "question4",
   "metadata": {
    "id": "question4"
   },
   "source": [
    "### Question 4\n",
    "\n",
    "**Q4 :** Décrivez le rôle de chaque composant du CNN (couches de convolution, pooling et dropout) et expliquez comment ils interagissent pour permettre au modèle d'extraire des caractéristiques pertinentes des images.\n",
    "\n",
    "_Répondez dans une nouvelle cellule Markdown._"
   ]
  },
  {
   "cell_type": "markdown",
   "id": "27fd943d-20c4-43e4-ab3d-27b64afe6d51",
   "metadata": {},
   "source": [
    "**Couches de convolution** :\r",
    "    \n",
    "Elles appliquent des filtres pour détecter des motifs locaux (contours, textures, etc.) dans les images. Chaque filtre extrait des caractéristiques spécifiques à différents niveaux d'abstraction\r",
    "**\n",
    "\r\n",
    "Couches de pool**ing     :\r\n",
    "Elles réduisent la dimension spatiale des données (par exemple, en prenant le maximum ou la moyenne sur une fenêtre). Cela diminue la charge computationnelle et rend le modèle plus robuste aux petites translatin**s.\r\n",
    "\r\n",
    "Couches de d**rop    out :\r\n",
    "Elles désactivent aléatoirement une fraction des neurones pendant l'entraînement, ce qui empêche le modèle de trop s'appuyer sur des neurones spécifiques et réduit le surapprents*sage.\r\n",
    "\r\n",
    "In*ter    action :\r\n",
    "Les couches de convolution et de pooling travaillent ensemble pour extraire des caractéristiques hiérarchiques (des motifs simples aux motifs complexes). Le dropout intervient après les couches denses pour régulariser le modèle et améliorer sa généralisation."
   ]
  },
  {
   "cell_type": "markdown",
   "id": "etape5",
   "metadata": {
    "id": "etape5"
   },
   "source": [
    "## Étape 5 : Compilation et Entraînement du Modèle\n",
    "\n",
    "Nous allons maintenant compiler le modèle en choisissant un optimiseur, une fonction de perte ainsi que des métriques d'évaluation. Ensuite, nous entraînons le modèle sur les données d'entraînement en réservant une partie des données pour la validation.\n",
    "\n",
    "### Explication Pratique\n",
    "La compilation configure le processus d'apprentissage, notamment la manière dont les poids seront ajustés via la rétropropagation. Le choix de l'optimiseur (ici, Adam) et la définition des hyperparamètres (comme le taux d'apprentissage et la taille du batch) influencent grandement la vitesse de convergence et la qualité finale du modèle."
   ]
  },
  {
   "cell_type": "code",
   "execution_count": null,
   "id": "code-etape5",
   "metadata": {
    "id": "code-etape5"
   },
   "outputs": [],
   "source": [
    "# Compiler le modèle\n",
    "model.compile(optimizer='adam',\n",
    "              loss='categorical_crossentropy',\n",
    "              metrics=['accuracy'])\n",
    "\n",
    "# Entraîner le modèle\n",
    "history = model.fit(x_train, y_train, epochs=10, batch_size=64,\n",
    "                    validation_split=0.2)"
   ]
  },
  {
   "cell_type": "markdown",
   "id": "question5",
   "metadata": {
    "id": "question5"
   },
   "source": [
    "### Question 5\n",
    "\n",
    "**Q5 :** Quels sont les effets d'un choix inadapté d'hyperparamètres (comme le taux d'apprentissage ou la taille du batch) sur l'entraînement d'un réseau de neurones ? Expliquez en quoi un optimiseur bien configuré est crucial pour la convergence du modèle.\n",
    "\n",
    "_Répondez dans une nouvelle cellule Markdown._"
   ]
  },
  {
   "cell_type": "markdown",
   "id": "ae10dccf-e282-49d8-81e2-1bc63d91bf29",
   "metadata": {},
   "source": [
    "**Taux d'apprentissage trop élevé** :\r",
    "    \n",
    "Le modèle peut osciller autour du minimum ou diverger, empêchant la convergence\r",
    "**\n",
    "\r\n",
    "Taux d'apprentissage trop fai**ble     :\r\n",
    "Le modèle converge très lentement ou reste bloqué dans un minimum loa**l.\r\n",
    "\r\n",
    "Taille de batch trop **pet    ite :\r\n",
    "Les mises à jour des poids sont bruyantes, ce qui peut ralentir la conveg**ence.\r\n",
    "\r\n",
    "Taille de batch tr**op     grande :\r\n",
    "La mémoire requise augmente, et le modèle peut converger vers des minima moinso*ptimaux.\r\n",
    "\r\n",
    "Rôle de *l'optimiseur :\r\n",
    "Un optimiseur comme Adam adapte dynamiquement le taux d'apprentissage pour chaque paramètre, ce qui accélère la convergence et améliore la performance. Un optimiseur mal configuré peut entraîner une instabilité ou une stagnation de l'entraînement."
   ]
  },
  {
   "cell_type": "code",
   "execution_count": null,
   "id": "e818bcb2-5bc5-4e37-b4eb-6da497c898e8",
   "metadata": {},
   "outputs": [],
   "source": []
  },
  {
   "cell_type": "markdown",
   "id": "etape6",
   "metadata": {
    "id": "etape6"
   },
   "source": [
    "## Étape 6 : Évaluation du Modèle\n",
    "\n",
    "Après l'entraînement, nous évaluons notre modèle sur le jeu de test afin de mesurer sa capacité de généralisation sur des données inédites. Les métriques telles que la perte et la précision nous aident à quantifier la performance globale du modèle.\n",
    "\n",
    "### Explication Pratique\n",
    "L'évaluation sur un jeu de test indépendant permet de détecter un éventuel surapprentissage (overfitting). Si le modèle présente une bonne performance sur l'entraînement mais une performance médiocre sur le test, cela indique qu'il n'a pas suffisamment généralisé, ce qui peut nécessiter des ajustements comme plus de régularisation ou des techniques d'augmentation de données."
   ]
  },
  {
   "cell_type": "code",
   "execution_count": null,
   "id": "code-etape6",
   "metadata": {
    "id": "code-etape6"
   },
   "outputs": [],
   "source": [
    "# Évaluer le modèle sur le jeu de test\n",
    "test_loss, test_acc = model.evaluate(x_test, y_test, verbose=2)\n",
    "print('Précision sur le jeu de test :', test_acc)"
   ]
  },
  {
   "cell_type": "markdown",
   "id": "question6",
   "metadata": {
    "id": "question6"
   },
   "source": [
    "### Question  6\n",
    "\n",
    "**Q6 :** Que nous indiquent la perte et la précision obtenues lors de l'évaluation sur le jeu de test ? Quels ajustements pourriez-vous envisager si vous observez un écart significatif entre les performances sur l'entraînement et le test ?\n",
    "\n",
    "_Répondez dans une nouvelle cellule Markdown._"
   ]
  },
  {
   "cell_type": "markdown",
   "id": "0c8ee2a2-502d-404a-b5b6-7a2657d86f15",
   "metadata": {},
   "source": [
    "**Perte et précision sur le jeu de test** :\r\n",
    "La perte mesure l'erreur du modèle, tandis que la précision indique le pourcentage de prédictions correctes. Une perte élevée et une faible précision suggèrent que le modèle généralise mal.\r",
    "*\n",
    "\r\n",
    "Ajustements possibles en cas d'écart (surapprentissa*ge     - :\r\n",
    "\r\n",
    "Augmenter la régularisation : Ajouter ou augmenter le dropout, ou utiliser des techniques comme L1/L2 regularizai    - on.\r\n",
    "\r\n",
    "Augmentation de données : Générer plus de données d'entraînement via des transformations pour améliorer la généralis    - tion.\r\n",
    "\r\n",
    "Simplifier le modèle : Réduire le nombre de couches ou de neurones pour éviter de trop adapter le modèle aux données d'entrî    - nement.\r\n",
    "\r\n",
    "Early stopping : Arrêter l'entraînement lorsque la performance sur le jeu de validation commence à se dégrader."
   ]
  },
  {
   "cell_type": "markdown",
   "id": "etape7",
   "metadata": {
    "id": "etape7"
   },
   "source": [
    "## Étape 7 : Prédictions et Visualisation des Résultats\n",
    "\n",
    "Nous allons utiliser le modèle entraîné pour prédire les classes des images du jeu de test. La visualisation des résultats nous permet de comparer les étiquettes prédites aux étiquettes réelles et d'identifier les erreurs potentielles.\n",
    "\n",
    "### Explication Pratique\n",
    "La visualisation aide à comprendre qualitativement comment le modèle se comporte face à différentes images. Cela permet d'identifier si certaines classes sont systématiquement mal prédites ou si le modèle confond certaines catégories, ouvrant ainsi la voie à des améliorations ultérieures (par exemple, via l'augmentation de données ou des ajustements de l'architecture)."
   ]
  },
  {
   "cell_type": "code",
   "execution_count": null,
   "id": "code-etape7",
   "metadata": {
    "id": "code-etape7"
   },
   "outputs": [],
   "source": [
    "# Faire des prédictions sur le jeu de test\n",
    "predictions = model.predict(x_test)\n",
    "\n",
    "# Fonction pour afficher l'image avec les étiquettes prédites et réelles\n",
    "def afficher_image(i, predictions_array, etiquette_vraie, img):\n",
    "    plt.grid(False)\n",
    "    plt.xticks([])\n",
    "    plt.yticks([])\n",
    "    plt.imshow(img, cmap=plt.cm.binary)\n",
    "\n",
    "    etiquette_predite = np.argmax(predictions_array)\n",
    "    etiquette_vraie = np.argmax(etiquette_vraie)\n",
    "\n",
    "    couleur = 'blue' if etiquette_predite == etiquette_vraie else 'red'\n",
    "    plt.xlabel(f\"Prédit : {noms_classes[etiquette_predite]} (Vrai : {noms_classes[etiquette_vraie]})\", color=couleur)\n",
    "\n",
    "# Afficher quelques images de test avec leurs prédictions\n",
    "nb_lignes = 5\n",
    "nb_colonnes = 3\n",
    "nb_images = nb_lignes * nb_colonnes\n",
    "plt.figure(figsize=(2 * nb_colonnes, 2 * nb_lignes))\n",
    "for i in range(nb_images):\n",
    "    plt.subplot(nb_lignes, nb_colonnes, i+1)\n",
    "    afficher_image(i, predictions[i], y_test[i], x_test[i])\n",
    "plt.tight_layout()\n",
    "plt.show()"
   ]
  },
  {
   "cell_type": "markdown",
   "id": "question7",
   "metadata": {
    "id": "question7"
   },
   "source": [
    "### Question 7\n",
    "\n",
    "**Q7 :** Après avoir examiné les prédictions, identifiez et discutez des stratégies conceptuelles (par exemple, l'augmentation de données, le raffinement de l'architecture ou l'ajustement des hyperparamètres) qui pourraient améliorer la robustesse et la précision du modèle.\n",
    "\n",
    "_Répondez dans une nouvelle cellule Markdown._"
   ]
  },
  {
   "cell_type": "markdown",
   "id": "f6becc5f-f9ea-4250-adbf-ae29feb2ff81",
   "metadata": {},
   "source": [
    "**Augmentation de données** :\r\n",
    "Appliquer des transformations aléatoires (rotation, zoom, etc.) pour diversifier les données d'entraînement et réduire le surapprentissage.\r",
    "**\n",
    "\r\n",
    "Raffinement de l'architect**ure    - :\r\n",
    "\r\n",
    "Ajouter des couches de convolution pour extraire des caractéristiques plus comple    - es.\r\n",
    "\r\n",
    "Utiliser des architectures avancées comme ResNet ou Efficien**tNet.\r\n",
    "\r\n",
    "Ajustement des hyperp**ara    - ètres :\r\n",
    "\r\n",
    "Optimiser le taux d'apprentissage, la taille du batch, ou le nombre    - d'epochs.\r\n",
    "\r\n",
    "Tester différents optimiseurs (par exemple, RMSprop au li**eu d'Adam).\r\n",
    "\r\n",
    "Tr**ans    - fer learning :\r\n",
    "Utiliser un modèle pré-entraîné sur un grand jeu de données (comme ImageNet) et le fine-tuner pour la tâc**he spécifique.\r\n",
    "\r",
    "**\n",
    "En    - semble learning :\r\n",
    "Combiner les prédictions de plusieurs modèles pour améliorer la robustesse et la précision.\r\n",
    "\r\n",
    "Ces stratégies permettent d'améliorer la généralisation du modèle et sa performance sur des données inédites."
   ]
  },
  {
   "cell_type": "markdown",
   "id": "etape8",
   "metadata": {
    "id": "etape8"
   },
   "source": [
    "## Étape 8 : Conclusion et Travaux Futurs\n",
    "\n",
    "Dans ce notebook, nous avons :\n",
    "- Configuré l'environnement et importé les bibliothèques nécessaires\n",
    "- Chargé et prétraité le jeu de données CIFAR-10\n",
    "- Exploré et visualisé les données\n",
    "- Construit, compilé et entraîné un modèle CNN\n",
    "- Évalué le modèle et visualisé ses prédictions\n",
    "\n",
    "### Explication Pratique\n",
    "Ce pipeline offre une approche complète, à la fois pratique et conceptuelle, pour la mise en œuvre d'un modèle de vision par ordinateur. Pour aller plus loin, vous pouvez explorer des architectures plus complexes, appliquer des techniques d'augmentation de données ou encore expérimenter avec différents optimisateurs afin de mieux comprendre l'impact de chacun sur la performance du modèle."
   ]
  }
 ],
 "metadata": {
  "colab": {
   "provenance": []
  },
  "kernelspec": {
   "display_name": "Python 3 (ipykernel)",
   "language": "python",
   "name": "python3"
  },
  "language_info": {
   "codemirror_mode": {
    "name": "ipython",
    "version": 3
   },
   "file_extension": ".py",
   "mimetype": "text/x-python",
   "name": "python",
   "nbconvert_exporter": "python",
   "pygments_lexer": "ipython3",
   "version": "3.12.4"
  }
 },
 "nbformat": 4,
 "nbformat_minor": 5
}
